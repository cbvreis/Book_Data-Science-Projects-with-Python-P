{
 "cells": [
  {
   "cell_type": "code",
   "execution_count": 5,
   "metadata": {
    "collapsed": true
   },
   "outputs": [],
   "source": [
    "import numpy as np\n",
    "import pandas as pd\n",
    "import matplotlib as mpl\n",
    "%matplotlib inline\n",
    "import seaborn as sns"
   ]
  },
  {
   "cell_type": "code",
   "execution_count": 6,
   "outputs": [],
   "source": [
    "df = pd.read_csv('https://raw.githubusercontent.com/TrainingByPackt/Data-Science-Projects-with-Python/master/Data/Chapter_1_cleaned_data.csv')"
   ],
   "metadata": {
    "collapsed": false,
    "pycharm": {
     "name": "#%%\n"
    }
   }
  },
  {
   "cell_type": "code",
   "execution_count": 7,
   "outputs": [
    {
     "data": {
      "text/plain": "['ID',\n 'LIMIT_BAL',\n 'SEX',\n 'EDUCATION',\n 'MARRIAGE',\n 'AGE',\n 'PAY_1',\n 'PAY_2',\n 'PAY_3',\n 'PAY_4',\n 'PAY_5',\n 'PAY_6',\n 'BILL_AMT1',\n 'BILL_AMT2',\n 'BILL_AMT3',\n 'BILL_AMT4',\n 'BILL_AMT5',\n 'BILL_AMT6',\n 'PAY_AMT1',\n 'PAY_AMT2',\n 'PAY_AMT3',\n 'PAY_AMT4',\n 'PAY_AMT5',\n 'PAY_AMT6',\n 'default payment next month',\n 'EDUCATION_CAT',\n 'graduate school',\n 'high school',\n 'none',\n 'others',\n 'university']"
     },
     "execution_count": 7,
     "metadata": {},
     "output_type": "execute_result"
    }
   ],
   "source": [
    "feature_response = df.columns.tolist()\n",
    "feature_response"
   ],
   "metadata": {
    "collapsed": false,
    "pycharm": {
     "name": "#%%\n"
    }
   }
  },
  {
   "cell_type": "code",
   "execution_count": 8,
   "outputs": [],
   "source": [
    "items_to_remove = ['ID', 'SEX', 'PAY_2', 'PAY_3', 'PAY_4', 'PAY_5', 'PAY_6',\n",
    " 'EDUCATION_CAT', 'graduate school', 'high school', 'none', 'others', 'university']"
   ],
   "metadata": {
    "collapsed": false,
    "pycharm": {
     "name": "#%%\n"
    }
   }
  },
  {
   "cell_type": "code",
   "execution_count": 9,
   "outputs": [],
   "source": [
    "feature_response = [item for item in feature_response if item not in items_to_remove]\n",
    "\n"
   ],
   "metadata": {
    "collapsed": false,
    "pycharm": {
     "name": "#%%\n"
    }
   }
  },
  {
   "cell_type": "code",
   "execution_count": 10,
   "outputs": [
    {
     "data": {
      "text/plain": "['LIMIT_BAL',\n 'EDUCATION',\n 'MARRIAGE',\n 'AGE',\n 'PAY_1',\n 'BILL_AMT1',\n 'BILL_AMT2',\n 'BILL_AMT3',\n 'BILL_AMT4',\n 'BILL_AMT5',\n 'BILL_AMT6',\n 'PAY_AMT1',\n 'PAY_AMT2',\n 'PAY_AMT3',\n 'PAY_AMT4',\n 'PAY_AMT5',\n 'PAY_AMT6',\n 'default payment next month']"
     },
     "execution_count": 10,
     "metadata": {},
     "output_type": "execute_result"
    }
   ],
   "source": [
    "feature_response"
   ],
   "metadata": {
    "collapsed": false,
    "pycharm": {
     "name": "#%%\n"
    }
   }
  },
  {
   "cell_type": "markdown",
   "source": [
    "## Person Correlation"
   ],
   "metadata": {
    "collapsed": false,
    "pycharm": {
     "name": "#%% md\n"
    }
   }
  },
  {
   "cell_type": "code",
   "execution_count": 12,
   "outputs": [
    {
     "data": {
      "text/plain": "                            LIMIT_BAL  EDUCATION  MARRIAGE       AGE  \\\nLIMIT_BAL                    1.000000  -0.232688 -0.111873  0.149157   \nEDUCATION                   -0.232688   1.000000 -0.137097  0.179035   \nMARRIAGE                    -0.111873  -0.137097  1.000000 -0.412828   \nAGE                          0.149157   0.179035 -0.412828  1.000000   \nPAY_1                       -0.273396   0.112653  0.019759 -0.044277   \nBILL_AMT1                    0.287009   0.016156 -0.028610  0.056245   \nBILL_AMT2                    0.279289   0.012307 -0.026009  0.054099   \nBILL_AMT3                    0.285299   0.007683 -0.029192  0.054107   \nBILL_AMT4                    0.294342  -0.005862 -0.027740  0.051241   \nBILL_AMT5                    0.295198  -0.013174 -0.029895  0.049701   \nBILL_AMT6                    0.289818  -0.012670 -0.024414  0.047519   \nPAY_AMT1                     0.194820  -0.040092 -0.002951  0.025437   \nPAY_AMT2                     0.188049  -0.033610 -0.007548  0.025421   \nPAY_AMT3                     0.207638  -0.042349 -0.003408  0.029876   \nPAY_AMT4                     0.202795  -0.039319 -0.014387  0.025307   \nPAY_AMT5                     0.218082  -0.044946 -0.000410  0.020541   \nPAY_AMT6                     0.221305  -0.046859 -0.009461  0.021640   \ndefault payment next month  -0.154423   0.034966 -0.026030  0.014334   \n\n                               PAY_1  BILL_AMT1  BILL_AMT2  BILL_AMT3  \\\nLIMIT_BAL                  -0.273396   0.287009   0.279289   0.285299   \nEDUCATION                   0.112653   0.016156   0.012307   0.007683   \nMARRIAGE                    0.019759  -0.028610  -0.026009  -0.029192   \nAGE                        -0.044277   0.056245   0.054099   0.054107   \nPAY_1                       1.000000   0.185826   0.188799   0.181257   \nBILL_AMT1                   0.185826   1.000000   0.951651   0.900386   \nBILL_AMT2                   0.188799   0.951651   1.000000   0.937488   \nBILL_AMT3                   0.181257   0.900386   0.937488   1.000000   \nBILL_AMT4                   0.178812   0.860149   0.892103   0.930385   \nBILL_AMT5                   0.180438   0.828615   0.858078   0.889186   \nBILL_AMT6                   0.177486   0.802008   0.830300   0.855154   \nPAY_AMT1                   -0.081450   0.138221   0.276583   0.242809   \nPAY_AMT2                   -0.073295   0.112460   0.114473   0.287837   \nPAY_AMT3                   -0.072682   0.145635   0.137514   0.119456   \nPAY_AMT4                   -0.064112   0.160204   0.148685   0.141010   \nPAY_AMT5                   -0.057021   0.163425   0.153851   0.159446   \nPAY_AMT6                   -0.061031   0.178943   0.172472   0.178121   \ndefault payment next month  0.325365  -0.020508  -0.014579  -0.014649   \n\n                            BILL_AMT4  BILL_AMT5  BILL_AMT6  PAY_AMT1  \\\nLIMIT_BAL                    0.294342   0.295198   0.289818  0.194820   \nEDUCATION                   -0.005862  -0.013174  -0.012670 -0.040092   \nMARRIAGE                    -0.027740  -0.029895  -0.024414 -0.002951   \nAGE                          0.051241   0.049701   0.047519  0.025437   \nPAY_1                        0.178812   0.180438   0.177486 -0.081450   \nBILL_AMT1                    0.860149   0.828615   0.802008  0.138221   \nBILL_AMT2                    0.892103   0.858078   0.830300  0.276583   \nBILL_AMT3                    0.930385   0.889186   0.855154  0.242809   \nBILL_AMT4                    1.000000   0.937799   0.899241  0.229123   \nBILL_AMT5                    0.937799   1.000000   0.945671  0.212053   \nBILL_AMT6                    0.899241   0.945671   1.000000  0.194316   \nPAY_AMT1                     0.229123   0.212053   0.194316  1.000000   \nPAY_AMT2                     0.217716   0.189566   0.167941  0.326951   \nPAY_AMT3                     0.293652   0.241291   0.219008  0.268781   \nPAY_AMT4                     0.131700   0.296192   0.251668  0.204178   \nPAY_AMT5                     0.158633   0.140669   0.305627  0.154208   \nPAY_AMT6                     0.171339   0.161847   0.117253  0.192774   \ndefault payment next month  -0.011349  -0.006753  -0.006274 -0.072431   \n\n                            PAY_AMT2  PAY_AMT3  PAY_AMT4  PAY_AMT5  PAY_AMT6  \\\nLIMIT_BAL                   0.188049  0.207638  0.202795  0.218082  0.221305   \nEDUCATION                  -0.033610 -0.042349 -0.039319 -0.044946 -0.046859   \nMARRIAGE                   -0.007548 -0.003408 -0.014387 -0.000410 -0.009461   \nAGE                         0.025421  0.029876  0.025307  0.020541  0.021640   \nPAY_1                      -0.073295 -0.072682 -0.064112 -0.057021 -0.061031   \nBILL_AMT1                   0.112460  0.145635  0.160204  0.163425  0.178943   \nBILL_AMT2                   0.114473  0.137514  0.148685  0.153851  0.172472   \nBILL_AMT3                   0.287837  0.119456  0.141010  0.159446  0.178121   \nBILL_AMT4                   0.217716  0.293652  0.131700  0.158633  0.171339   \nBILL_AMT5                   0.189566  0.241291  0.296192  0.140669  0.161847   \nBILL_AMT6                   0.167941  0.219008  0.251668  0.305627  0.117253   \nPAY_AMT1                    0.326951  0.268781  0.204178  0.154208  0.192774   \nPAY_AMT2                    1.000000  0.265713  0.188660  0.136844  0.164655   \nPAY_AMT3                    0.265713  1.000000  0.222513  0.158325  0.163026   \nPAY_AMT4                    0.188660  0.222513  1.000000  0.153347  0.165131   \nPAY_AMT5                    0.136844  0.158325  0.153347  1.000000  0.158727   \nPAY_AMT6                    0.164655  0.163026  0.165131  0.158727  1.000000   \ndefault payment next month -0.061555 -0.058010 -0.054572 -0.056651 -0.054838   \n\n                            default payment next month  \nLIMIT_BAL                                    -0.154423  \nEDUCATION                                     0.034966  \nMARRIAGE                                     -0.026030  \nAGE                                           0.014334  \nPAY_1                                         0.325365  \nBILL_AMT1                                    -0.020508  \nBILL_AMT2                                    -0.014579  \nBILL_AMT3                                    -0.014649  \nBILL_AMT4                                    -0.011349  \nBILL_AMT5                                    -0.006753  \nBILL_AMT6                                    -0.006274  \nPAY_AMT1                                     -0.072431  \nPAY_AMT2                                     -0.061555  \nPAY_AMT3                                     -0.058010  \nPAY_AMT4                                     -0.054572  \nPAY_AMT5                                     -0.056651  \nPAY_AMT6                                     -0.054838  \ndefault payment next month                    1.000000  ",
      "text/html": "<div>\n<style scoped>\n    .dataframe tbody tr th:only-of-type {\n        vertical-align: middle;\n    }\n\n    .dataframe tbody tr th {\n        vertical-align: top;\n    }\n\n    .dataframe thead th {\n        text-align: right;\n    }\n</style>\n<table border=\"1\" class=\"dataframe\">\n  <thead>\n    <tr style=\"text-align: right;\">\n      <th></th>\n      <th>LIMIT_BAL</th>\n      <th>EDUCATION</th>\n      <th>MARRIAGE</th>\n      <th>AGE</th>\n      <th>PAY_1</th>\n      <th>BILL_AMT1</th>\n      <th>BILL_AMT2</th>\n      <th>BILL_AMT3</th>\n      <th>BILL_AMT4</th>\n      <th>BILL_AMT5</th>\n      <th>BILL_AMT6</th>\n      <th>PAY_AMT1</th>\n      <th>PAY_AMT2</th>\n      <th>PAY_AMT3</th>\n      <th>PAY_AMT4</th>\n      <th>PAY_AMT5</th>\n      <th>PAY_AMT6</th>\n      <th>default payment next month</th>\n    </tr>\n  </thead>\n  <tbody>\n    <tr>\n      <th>LIMIT_BAL</th>\n      <td>1.000000</td>\n      <td>-0.232688</td>\n      <td>-0.111873</td>\n      <td>0.149157</td>\n      <td>-0.273396</td>\n      <td>0.287009</td>\n      <td>0.279289</td>\n      <td>0.285299</td>\n      <td>0.294342</td>\n      <td>0.295198</td>\n      <td>0.289818</td>\n      <td>0.194820</td>\n      <td>0.188049</td>\n      <td>0.207638</td>\n      <td>0.202795</td>\n      <td>0.218082</td>\n      <td>0.221305</td>\n      <td>-0.154423</td>\n    </tr>\n    <tr>\n      <th>EDUCATION</th>\n      <td>-0.232688</td>\n      <td>1.000000</td>\n      <td>-0.137097</td>\n      <td>0.179035</td>\n      <td>0.112653</td>\n      <td>0.016156</td>\n      <td>0.012307</td>\n      <td>0.007683</td>\n      <td>-0.005862</td>\n      <td>-0.013174</td>\n      <td>-0.012670</td>\n      <td>-0.040092</td>\n      <td>-0.033610</td>\n      <td>-0.042349</td>\n      <td>-0.039319</td>\n      <td>-0.044946</td>\n      <td>-0.046859</td>\n      <td>0.034966</td>\n    </tr>\n    <tr>\n      <th>MARRIAGE</th>\n      <td>-0.111873</td>\n      <td>-0.137097</td>\n      <td>1.000000</td>\n      <td>-0.412828</td>\n      <td>0.019759</td>\n      <td>-0.028610</td>\n      <td>-0.026009</td>\n      <td>-0.029192</td>\n      <td>-0.027740</td>\n      <td>-0.029895</td>\n      <td>-0.024414</td>\n      <td>-0.002951</td>\n      <td>-0.007548</td>\n      <td>-0.003408</td>\n      <td>-0.014387</td>\n      <td>-0.000410</td>\n      <td>-0.009461</td>\n      <td>-0.026030</td>\n    </tr>\n    <tr>\n      <th>AGE</th>\n      <td>0.149157</td>\n      <td>0.179035</td>\n      <td>-0.412828</td>\n      <td>1.000000</td>\n      <td>-0.044277</td>\n      <td>0.056245</td>\n      <td>0.054099</td>\n      <td>0.054107</td>\n      <td>0.051241</td>\n      <td>0.049701</td>\n      <td>0.047519</td>\n      <td>0.025437</td>\n      <td>0.025421</td>\n      <td>0.029876</td>\n      <td>0.025307</td>\n      <td>0.020541</td>\n      <td>0.021640</td>\n      <td>0.014334</td>\n    </tr>\n    <tr>\n      <th>PAY_1</th>\n      <td>-0.273396</td>\n      <td>0.112653</td>\n      <td>0.019759</td>\n      <td>-0.044277</td>\n      <td>1.000000</td>\n      <td>0.185826</td>\n      <td>0.188799</td>\n      <td>0.181257</td>\n      <td>0.178812</td>\n      <td>0.180438</td>\n      <td>0.177486</td>\n      <td>-0.081450</td>\n      <td>-0.073295</td>\n      <td>-0.072682</td>\n      <td>-0.064112</td>\n      <td>-0.057021</td>\n      <td>-0.061031</td>\n      <td>0.325365</td>\n    </tr>\n    <tr>\n      <th>BILL_AMT1</th>\n      <td>0.287009</td>\n      <td>0.016156</td>\n      <td>-0.028610</td>\n      <td>0.056245</td>\n      <td>0.185826</td>\n      <td>1.000000</td>\n      <td>0.951651</td>\n      <td>0.900386</td>\n      <td>0.860149</td>\n      <td>0.828615</td>\n      <td>0.802008</td>\n      <td>0.138221</td>\n      <td>0.112460</td>\n      <td>0.145635</td>\n      <td>0.160204</td>\n      <td>0.163425</td>\n      <td>0.178943</td>\n      <td>-0.020508</td>\n    </tr>\n    <tr>\n      <th>BILL_AMT2</th>\n      <td>0.279289</td>\n      <td>0.012307</td>\n      <td>-0.026009</td>\n      <td>0.054099</td>\n      <td>0.188799</td>\n      <td>0.951651</td>\n      <td>1.000000</td>\n      <td>0.937488</td>\n      <td>0.892103</td>\n      <td>0.858078</td>\n      <td>0.830300</td>\n      <td>0.276583</td>\n      <td>0.114473</td>\n      <td>0.137514</td>\n      <td>0.148685</td>\n      <td>0.153851</td>\n      <td>0.172472</td>\n      <td>-0.014579</td>\n    </tr>\n    <tr>\n      <th>BILL_AMT3</th>\n      <td>0.285299</td>\n      <td>0.007683</td>\n      <td>-0.029192</td>\n      <td>0.054107</td>\n      <td>0.181257</td>\n      <td>0.900386</td>\n      <td>0.937488</td>\n      <td>1.000000</td>\n      <td>0.930385</td>\n      <td>0.889186</td>\n      <td>0.855154</td>\n      <td>0.242809</td>\n      <td>0.287837</td>\n      <td>0.119456</td>\n      <td>0.141010</td>\n      <td>0.159446</td>\n      <td>0.178121</td>\n      <td>-0.014649</td>\n    </tr>\n    <tr>\n      <th>BILL_AMT4</th>\n      <td>0.294342</td>\n      <td>-0.005862</td>\n      <td>-0.027740</td>\n      <td>0.051241</td>\n      <td>0.178812</td>\n      <td>0.860149</td>\n      <td>0.892103</td>\n      <td>0.930385</td>\n      <td>1.000000</td>\n      <td>0.937799</td>\n      <td>0.899241</td>\n      <td>0.229123</td>\n      <td>0.217716</td>\n      <td>0.293652</td>\n      <td>0.131700</td>\n      <td>0.158633</td>\n      <td>0.171339</td>\n      <td>-0.011349</td>\n    </tr>\n    <tr>\n      <th>BILL_AMT5</th>\n      <td>0.295198</td>\n      <td>-0.013174</td>\n      <td>-0.029895</td>\n      <td>0.049701</td>\n      <td>0.180438</td>\n      <td>0.828615</td>\n      <td>0.858078</td>\n      <td>0.889186</td>\n      <td>0.937799</td>\n      <td>1.000000</td>\n      <td>0.945671</td>\n      <td>0.212053</td>\n      <td>0.189566</td>\n      <td>0.241291</td>\n      <td>0.296192</td>\n      <td>0.140669</td>\n      <td>0.161847</td>\n      <td>-0.006753</td>\n    </tr>\n    <tr>\n      <th>BILL_AMT6</th>\n      <td>0.289818</td>\n      <td>-0.012670</td>\n      <td>-0.024414</td>\n      <td>0.047519</td>\n      <td>0.177486</td>\n      <td>0.802008</td>\n      <td>0.830300</td>\n      <td>0.855154</td>\n      <td>0.899241</td>\n      <td>0.945671</td>\n      <td>1.000000</td>\n      <td>0.194316</td>\n      <td>0.167941</td>\n      <td>0.219008</td>\n      <td>0.251668</td>\n      <td>0.305627</td>\n      <td>0.117253</td>\n      <td>-0.006274</td>\n    </tr>\n    <tr>\n      <th>PAY_AMT1</th>\n      <td>0.194820</td>\n      <td>-0.040092</td>\n      <td>-0.002951</td>\n      <td>0.025437</td>\n      <td>-0.081450</td>\n      <td>0.138221</td>\n      <td>0.276583</td>\n      <td>0.242809</td>\n      <td>0.229123</td>\n      <td>0.212053</td>\n      <td>0.194316</td>\n      <td>1.000000</td>\n      <td>0.326951</td>\n      <td>0.268781</td>\n      <td>0.204178</td>\n      <td>0.154208</td>\n      <td>0.192774</td>\n      <td>-0.072431</td>\n    </tr>\n    <tr>\n      <th>PAY_AMT2</th>\n      <td>0.188049</td>\n      <td>-0.033610</td>\n      <td>-0.007548</td>\n      <td>0.025421</td>\n      <td>-0.073295</td>\n      <td>0.112460</td>\n      <td>0.114473</td>\n      <td>0.287837</td>\n      <td>0.217716</td>\n      <td>0.189566</td>\n      <td>0.167941</td>\n      <td>0.326951</td>\n      <td>1.000000</td>\n      <td>0.265713</td>\n      <td>0.188660</td>\n      <td>0.136844</td>\n      <td>0.164655</td>\n      <td>-0.061555</td>\n    </tr>\n    <tr>\n      <th>PAY_AMT3</th>\n      <td>0.207638</td>\n      <td>-0.042349</td>\n      <td>-0.003408</td>\n      <td>0.029876</td>\n      <td>-0.072682</td>\n      <td>0.145635</td>\n      <td>0.137514</td>\n      <td>0.119456</td>\n      <td>0.293652</td>\n      <td>0.241291</td>\n      <td>0.219008</td>\n      <td>0.268781</td>\n      <td>0.265713</td>\n      <td>1.000000</td>\n      <td>0.222513</td>\n      <td>0.158325</td>\n      <td>0.163026</td>\n      <td>-0.058010</td>\n    </tr>\n    <tr>\n      <th>PAY_AMT4</th>\n      <td>0.202795</td>\n      <td>-0.039319</td>\n      <td>-0.014387</td>\n      <td>0.025307</td>\n      <td>-0.064112</td>\n      <td>0.160204</td>\n      <td>0.148685</td>\n      <td>0.141010</td>\n      <td>0.131700</td>\n      <td>0.296192</td>\n      <td>0.251668</td>\n      <td>0.204178</td>\n      <td>0.188660</td>\n      <td>0.222513</td>\n      <td>1.000000</td>\n      <td>0.153347</td>\n      <td>0.165131</td>\n      <td>-0.054572</td>\n    </tr>\n    <tr>\n      <th>PAY_AMT5</th>\n      <td>0.218082</td>\n      <td>-0.044946</td>\n      <td>-0.000410</td>\n      <td>0.020541</td>\n      <td>-0.057021</td>\n      <td>0.163425</td>\n      <td>0.153851</td>\n      <td>0.159446</td>\n      <td>0.158633</td>\n      <td>0.140669</td>\n      <td>0.305627</td>\n      <td>0.154208</td>\n      <td>0.136844</td>\n      <td>0.158325</td>\n      <td>0.153347</td>\n      <td>1.000000</td>\n      <td>0.158727</td>\n      <td>-0.056651</td>\n    </tr>\n    <tr>\n      <th>PAY_AMT6</th>\n      <td>0.221305</td>\n      <td>-0.046859</td>\n      <td>-0.009461</td>\n      <td>0.021640</td>\n      <td>-0.061031</td>\n      <td>0.178943</td>\n      <td>0.172472</td>\n      <td>0.178121</td>\n      <td>0.171339</td>\n      <td>0.161847</td>\n      <td>0.117253</td>\n      <td>0.192774</td>\n      <td>0.164655</td>\n      <td>0.163026</td>\n      <td>0.165131</td>\n      <td>0.158727</td>\n      <td>1.000000</td>\n      <td>-0.054838</td>\n    </tr>\n    <tr>\n      <th>default payment next month</th>\n      <td>-0.154423</td>\n      <td>0.034966</td>\n      <td>-0.026030</td>\n      <td>0.014334</td>\n      <td>0.325365</td>\n      <td>-0.020508</td>\n      <td>-0.014579</td>\n      <td>-0.014649</td>\n      <td>-0.011349</td>\n      <td>-0.006753</td>\n      <td>-0.006274</td>\n      <td>-0.072431</td>\n      <td>-0.061555</td>\n      <td>-0.058010</td>\n      <td>-0.054572</td>\n      <td>-0.056651</td>\n      <td>-0.054838</td>\n      <td>1.000000</td>\n    </tr>\n  </tbody>\n</table>\n</div>"
     },
     "execution_count": 12,
     "metadata": {},
     "output_type": "execute_result"
    }
   ],
   "source": [
    "corr = df[feature_response].corr()\n",
    "corr\n",
    "\n"
   ],
   "metadata": {
    "collapsed": false,
    "pycharm": {
     "name": "#%%\n"
    }
   }
  },
  {
   "cell_type": "code",
   "execution_count": 14,
   "outputs": [
    {
     "data": {
      "text/plain": "<AxesSubplot:>"
     },
     "execution_count": 14,
     "metadata": {},
     "output_type": "execute_result"
    },
    {
     "data": {
      "text/plain": "<Figure size 432x288 with 2 Axes>",
      "image/png": "[encoded data removed]"
     },
     "metadata": {
      "needs_background": "light"
     },
     "output_type": "display_data"
    }
   ],
   "source": [
    "sns.heatmap(corr,\n",
    "            xticklabels=corr.columns.values,\n",
    "            yticklabels=corr.columns.values,\n",
    "            cmap='coolwarm',\n",
    "            center=0)"
   ],
   "metadata": {
    "collapsed": false,
    "pycharm": {
     "name": "#%%\n"
    }
   }
  },
  {
   "cell_type": "markdown",
   "source": [
    "It's worth noting that, while it is regularly used in this context by data science practitioners, Pearson correlation is not strictly appropriate for a binary response\n",
    "variable, as we have in our problem. Technically speaking, among other restrictions, Pearson correlation is only appropriate for a continuous response variable."
   ],
   "metadata": {
    "collapsed": false
   }
  },
  {
   "cell_type": "markdown",
   "source": [
    "## ANOVA F TEST\n",
    "\n",
    "While Pearson correlation is theoretically valid for continuous response variables, the binary response variable for the case study data could be considered categorical data,\n",
    "with only two categories: 0 and 1. Among the different kinds of tests we can run, to see whether features are associated with a categorical response, is the ANOVA F-test,\n",
    "available in scikit-learn as f_classif. ANOVA stands for \"analysis of variance\". The ANOVA F-test can be contrasted with the regression F-test, which is very similar to\n",
    "Pearson correlation, also available in scikit-learn as f_regression."
   ],
   "metadata": {
    "collapsed": false,
    "pycharm": {
     "name": "#%% md\n"
    }
   }
  },
  {
   "cell_type": "code",
   "execution_count": 15,
   "outputs": [
    {
     "name": "stdout",
     "output_type": "stream",
     "text": [
      "(26664, 17) (26664,)\n"
     ]
    }
   ],
   "source": [
    "X = df[feature_response].iloc[:,:-1].values\n",
    "y = df[feature_response].iloc[:,-1].values\n",
    "print(X.shape, y.shape)\n"
   ],
   "metadata": {
    "collapsed": false,
    "pycharm": {
     "name": "#%%\n"
    }
   }
  },
  {
   "cell_type": "code",
   "execution_count": 19,
   "outputs": [
    {
     "data": {
      "text/plain": "      feature       f_stat        p_value\n4       PAY_1  3156.672300   0.000000e+00\n0   LIMIT_BAL   651.324071  5.838366e-142\n11   PAY_AMT1   140.612679   2.358354e-32\n12   PAY_AMT2   101.408321   8.256124e-24\n13   PAY_AMT3    90.023873   2.542641e-21\n15   PAY_AMT5    85.843295   2.090120e-20\n16   PAY_AMT6    80.420784   3.219565e-19\n14   PAY_AMT4    79.640021   4.774112e-19\n1   EDUCATION    32.637768   1.122175e-08\n2    MARRIAGE    18.078027   2.127555e-05\n5   BILL_AMT1    11.218406   8.110226e-04\n7   BILL_AMT3     5.722938   1.675157e-02\n6   BILL_AMT2     5.668454   1.727965e-02\n3         AGE     5.479140   1.925206e-02\n8   BILL_AMT4     3.434740   6.384965e-02\n9   BILL_AMT5     1.216082   2.701409e-01\n10  BILL_AMT6     1.049561   3.056176e-01",
      "text/html": "<div>\n<style scoped>\n    .dataframe tbody tr th:only-of-type {\n        vertical-align: middle;\n    }\n\n    .dataframe tbody tr th {\n        vertical-align: top;\n    }\n\n    .dataframe thead th {\n        text-align: right;\n    }\n</style>\n<table border=\"1\" class=\"dataframe\">\n  <thead>\n    <tr style=\"text-align: right;\">\n      <th></th>\n      <th>feature</th>\n      <th>f_stat</th>\n      <th>p_value</th>\n    </tr>\n  </thead>\n  <tbody>\n    <tr>\n      <th>4</th>\n      <td>PAY_1</td>\n      <td>3156.672300</td>\n      <td>0.000000e+00</td>\n    </tr>\n    <tr>\n      <th>0</th>\n      <td>LIMIT_BAL</td>\n      <td>651.324071</td>\n      <td>5.838366e-142</td>\n    </tr>\n    <tr>\n      <th>11</th>\n      <td>PAY_AMT1</td>\n      <td>140.612679</td>\n      <td>2.358354e-32</td>\n    </tr>\n    <tr>\n      <th>12</th>\n      <td>PAY_AMT2</td>\n      <td>101.408321</td>\n      <td>8.256124e-24</td>\n    </tr>\n    <tr>\n      <th>13</th>\n      <td>PAY_AMT3</td>\n      <td>90.023873</td>\n      <td>2.542641e-21</td>\n    </tr>\n    <tr>\n      <th>15</th>\n      <td>PAY_AMT5</td>\n      <td>85.843295</td>\n      <td>2.090120e-20</td>\n    </tr>\n    <tr>\n      <th>16</th>\n      <td>PAY_AMT6</td>\n      <td>80.420784</td>\n      <td>3.219565e-19</td>\n    </tr>\n    <tr>\n      <th>14</th>\n      <td>PAY_AMT4</td>\n      <td>79.640021</td>\n      <td>4.774112e-19</td>\n    </tr>\n    <tr>\n      <th>1</th>\n      <td>EDUCATION</td>\n      <td>32.637768</td>\n      <td>1.122175e-08</td>\n    </tr>\n    <tr>\n      <th>2</th>\n      <td>MARRIAGE</td>\n      <td>18.078027</td>\n      <td>2.127555e-05</td>\n    </tr>\n    <tr>\n      <th>5</th>\n      <td>BILL_AMT1</td>\n      <td>11.218406</td>\n      <td>8.110226e-04</td>\n    </tr>\n    <tr>\n      <th>7</th>\n      <td>BILL_AMT3</td>\n      <td>5.722938</td>\n      <td>1.675157e-02</td>\n    </tr>\n    <tr>\n      <th>6</th>\n      <td>BILL_AMT2</td>\n      <td>5.668454</td>\n      <td>1.727965e-02</td>\n    </tr>\n    <tr>\n      <th>3</th>\n      <td>AGE</td>\n      <td>5.479140</td>\n      <td>1.925206e-02</td>\n    </tr>\n    <tr>\n      <th>8</th>\n      <td>BILL_AMT4</td>\n      <td>3.434740</td>\n      <td>6.384965e-02</td>\n    </tr>\n    <tr>\n      <th>9</th>\n      <td>BILL_AMT5</td>\n      <td>1.216082</td>\n      <td>2.701409e-01</td>\n    </tr>\n    <tr>\n      <th>10</th>\n      <td>BILL_AMT6</td>\n      <td>1.049561</td>\n      <td>3.056176e-01</td>\n    </tr>\n  </tbody>\n</table>\n</div>"
     },
     "execution_count": 19,
     "metadata": {},
     "output_type": "execute_result"
    }
   ],
   "source": [
    "from sklearn.feature_selection import f_classif\n",
    "f_stat, p_value = f_classif(X, y)\n",
    "\n",
    "f_test_df = pd.DataFrame({'feature':feature_response[:-1],\n",
    "                          'f_stat':f_stat,\n",
    "                          'p_value':p_value})\n",
    "f_test_df = f_test_df.sort_values(by='p_value', ascending=True)\n",
    "f_test_df"
   ],
   "metadata": {
    "collapsed": false,
    "pycharm": {
     "name": "#%%\n"
    }
   }
  },
  {
   "cell_type": "markdown",
   "source": [
    "They have the smallest p-values, indicating the average values of these features between the positive and negative classes are\n",
    "significantly different, and these features will help predict which class a sample belongs to"
   ],
   "metadata": {
    "collapsed": false,
    "pycharm": {
     "name": "#%% md\n"
    }
   }
  },
  {
   "cell_type": "code",
   "execution_count": 24,
   "outputs": [
    {
     "data": {
      "text/plain": "SelectPercentile(percentile=20)"
     },
     "execution_count": 24,
     "metadata": {},
     "output_type": "execute_result"
    }
   ],
   "source": [
    "#Selecting top 20% features\n",
    "from sklearn.feature_selection import SelectPercentile\n",
    "\n",
    "selector = SelectPercentile(f_classif, percentile=20)\n",
    "selector.fit(X, y)\n",
    "\n"
   ],
   "metadata": {
    "collapsed": false,
    "pycharm": {
     "name": "#%%\n"
    }
   }
  },
  {
   "cell_type": "code",
   "execution_count": 25,
   "outputs": [
    {
     "data": {
      "text/plain": "array([ True, False, False, False,  True, False, False, False, False,\n       False, False,  True,  True, False, False, False, False])"
     },
     "execution_count": 25,
     "metadata": {},
     "output_type": "execute_result"
    }
   ],
   "source": [
    "best_features = selector.get_support()\n",
    "best_features"
   ],
   "metadata": {
    "collapsed": false,
    "pycharm": {
     "name": "#%%\n"
    }
   }
  },
  {
   "cell_type": "code",
   "execution_count": 26,
   "outputs": [
    {
     "data": {
      "text/plain": "['LIMIT_BAL', 'PAY_1', 'PAY_AMT1', 'PAY_AMT2']"
     },
     "execution_count": 26,
     "metadata": {},
     "output_type": "execute_result"
    }
   ],
   "source": [
    "features = feature_response[:-1]\n",
    "best_features_names = [features[counter] for counter in range(len(features)) if best_features[counter]]\n",
    "best_features_names\n"
   ],
   "metadata": {
    "collapsed": false,
    "pycharm": {
     "name": "#%%\n"
    }
   }
  },
  {
   "cell_type": "code",
   "execution_count": null,
   "outputs": [],
   "source": [],
   "metadata": {
    "collapsed": false,
    "pycharm": {
     "name": "#%%\n"
    }
   }
  }
 ],
 "metadata": {
  "kernelspec": {
   "display_name": "Python 3",
   "language": "python",
   "name": "python3"
  },
  "language_info": {
   "codemirror_mode": {
    "name": "ipython",
    "version": 2
   },
   "file_extension": ".py",
   "mimetype": "text/x-python",
   "name": "python",
   "nbconvert_exporter": "python",
   "pygments_lexer": "ipython2",
   "version": "2.7.6"
  }
 },
 "nbformat": 4,
 "nbformat_minor": 0
}